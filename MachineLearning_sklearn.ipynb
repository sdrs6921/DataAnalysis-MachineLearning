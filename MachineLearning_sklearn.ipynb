{
 "cells": [
  {
   "cell_type": "code",
   "execution_count": 1,
   "metadata": {},
   "outputs": [],
   "source": [
    "import numpy as np"
   ]
  },
  {
   "cell_type": "code",
   "execution_count": 2,
   "metadata": {},
   "outputs": [
    {
     "name": "stdout",
     "output_type": "stream",
     "text": [
      "[[ 2  3  4]\n",
      " [ 5  6  7]\n",
      " [ 8  9 10]]\n"
     ]
    }
   ],
   "source": [
    "array = np.arange(2,11).reshape(3,3)\n",
    "print(array)"
   ]
  },
  {
   "cell_type": "code",
   "execution_count": 4,
   "metadata": {},
   "outputs": [
    {
     "name": "stdout",
     "output_type": "stream",
     "text": [
      "[ 0.  0.  0.  0.  0. 11.  0.  0.  0.  0.]\n"
     ]
    }
   ],
   "source": [
    "array = np.zeros(10)\n",
    "array[5] = 11\n",
    "print(array)"
   ]
  },
  {
   "cell_type": "code",
   "execution_count": 10,
   "metadata": {},
   "outputs": [
    {
     "name": "stdout",
     "output_type": "stream",
     "text": [
      "[1 2 4]\n"
     ]
    }
   ],
   "source": [
    "vector = [1, 2, 0, 0, 4, 0]\n",
    "\n",
    "cpy_vector = []\n",
    "\n",
    "for element in vector:\n",
    "    if element != 0:\n",
    "        cpy_vector.append(element)\n",
    "cpy_vector = np.array(cpy_vector)\n",
    "print(cpy_vector)"
   ]
  },
  {
   "cell_type": "code",
   "execution_count": 14,
   "metadata": {},
   "outputs": [
    {
     "name": "stdout",
     "output_type": "stream",
     "text": [
      "Prediction accuracy:  1.0\n"
     ]
    }
   ],
   "source": [
    "from sklearn.datasets import load_iris\n",
    "from sklearn.tree import DecisionTreeClassifier\n",
    "from sklearn.metrics import accuracy_score\n",
    "\n",
    "iris = load_iris()\n",
    "dt_clf = DecisionTreeClassifier()\n",
    "train_data = iris.data\n",
    "train_label = iris.target\n",
    "dt_clf.fit(train_data, train_label)\n",
    "\n",
    "pred = dt_clf.predict(train_data)\n",
    "print(\"Prediction accuracy: \", accuracy_score(train_label, pred) )"
   ]
  },
  {
   "cell_type": "code",
   "execution_count": 18,
   "metadata": {},
   "outputs": [
    {
     "name": "stdout",
     "output_type": "stream",
     "text": [
      "Iris Data Set Szie: 150\n"
     ]
    }
   ],
   "source": [
    "from sklearn.tree import DecisionTreeClassifier\n",
    "from sklearn.metrics import accuracy_score\n",
    "from sklearn.model_selection import KFold\n",
    "from sklearn.datasets import load_iris\n",
    "import numpy as np\n",
    "\n",
    "iris = load_iris()\n",
    "features = iris.data\n",
    "label = iris.target\n",
    "dt_clf = DecisionTreeClassifier(random_state=156)\n",
    "\n",
    "kfold = KFold(n_splits=5)\n",
    "cv_accuracy= []\n",
    "print(\"Iris Data Set Szie:\", features.shape[0])"
   ]
  },
  {
   "cell_type": "code",
   "execution_count": 25,
   "metadata": {},
   "outputs": [
    {
     "name": "stdout",
     "output_type": "stream",
     "text": [
      "\n",
      "#1 fold accuracy:1.0, train size:120, val size:30\n",
      "\n",
      "#1 fold accuracy:[ 0  1  2  3  4  5  6  7  8  9 10 11 12 13 14 15 16 17 18 19 20 21 22 23\n",
      " 24 25 26 27 28 29]\n",
      "\n",
      "#2 fold accuracy:0.9667, train size:120, val size:30\n",
      "\n",
      "#2 fold accuracy:[30 31 32 33 34 35 36 37 38 39 40 41 42 43 44 45 46 47 48 49 50 51 52 53\n",
      " 54 55 56 57 58 59]\n",
      "\n",
      "#3 fold accuracy:0.8667, train size:120, val size:30\n",
      "\n",
      "#3 fold accuracy:[60 61 62 63 64 65 66 67 68 69 70 71 72 73 74 75 76 77 78 79 80 81 82 83\n",
      " 84 85 86 87 88 89]\n",
      "\n",
      "#4 fold accuracy:0.9333, train size:120, val size:30\n",
      "\n",
      "#4 fold accuracy:[ 90  91  92  93  94  95  96  97  98  99 100 101 102 103 104 105 106 107\n",
      " 108 109 110 111 112 113 114 115 116 117 118 119]\n",
      "\n",
      "#5 fold accuracy:0.7333, train size:120, val size:30\n",
      "\n",
      "#5 fold accuracy:[120 121 122 123 124 125 126 127 128 129 130 131 132 133 134 135 136 137\n",
      " 138 139 140 141 142 143 144 145 146 147 148 149]\n"
     ]
    }
   ],
   "source": [
    "fold_index = 0\n",
    "for train_index, test_index in kfold.split(features):\n",
    "    x_train, x_test = features[train_index], features[test_index]\n",
    "    y_train, y_test = label[train_index], label[test_index]\n",
    "    \n",
    "    dt_clf.fit(x_train, y_train)\n",
    "    pred = dt_clf.predict(x_test)\n",
    "    fold_index += 1\n",
    "    \n",
    "    accuracy = np.round(accuracy_score(y_test, pred), 4)\n",
    "    train_size = x_train.shape[0]\n",
    "    test_size = x_test.shape[0]\n",
    "    \n",
    "    print('\\n#{0} fold accuracy:{1}, train size:{2}, val size:{3}'\n",
    "         .format(fold_index, accuracy, train_size , test_size))\n",
    "    print('\\n#{0} fold accuracy:{1}'.format(fold_index, test_index))"
   ]
  },
  {
   "cell_type": "code",
   "execution_count": 35,
   "metadata": {},
   "outputs": [
    {
     "name": "stdout",
     "output_type": "stream",
     "text": [
      "## Cross validation: 1\n",
      "Train label distribution:\n",
      " 2    50\n",
      "1    50\n",
      "0    20\n",
      "Name: label, dtype: int64\n",
      "Val label distribution:\n",
      " 0    30\n",
      "Name: label, dtype: int64\n",
      "## Cross validation: 2\n",
      "Train label distribution:\n",
      " 2    50\n",
      "1    40\n",
      "0    30\n",
      "Name: label, dtype: int64\n",
      "Val label distribution:\n",
      " 0    20\n",
      "1    10\n",
      "Name: label, dtype: int64\n",
      "## Cross validation: 3\n",
      "Train label distribution:\n",
      " 2    50\n",
      "0    50\n",
      "1    20\n",
      "Name: label, dtype: int64\n",
      "Val label distribution:\n",
      " 1    30\n",
      "Name: label, dtype: int64\n",
      "## Cross validation: 4\n",
      "Train label distribution:\n",
      " 0    50\n",
      "1    40\n",
      "2    30\n",
      "Name: label, dtype: int64\n",
      "Val label distribution:\n",
      " 2    20\n",
      "1    10\n",
      "Name: label, dtype: int64\n",
      "## Cross validation: 5\n",
      "Train label distribution:\n",
      " 1    50\n",
      "0    50\n",
      "2    20\n",
      "Name: label, dtype: int64\n",
      "Val label distribution:\n",
      " 2    30\n",
      "Name: label, dtype: int64\n",
      "\n",
      "#6 fold accuracy:1.0, train size:120, val size:30\n",
      "\n",
      "#6 fold accuracy:[ 0  1  2  3  4  5  6  7  8  9 10 11 12 13 14 15 16 17 18 19 20 21 22 23\n",
      " 24 25 26 27 28 29]\n",
      "\n",
      "#7 fold accuracy:0.9667, train size:120, val size:30\n",
      "\n",
      "#7 fold accuracy:[30 31 32 33 34 35 36 37 38 39 40 41 42 43 44 45 46 47 48 49 50 51 52 53\n",
      " 54 55 56 57 58 59]\n",
      "\n",
      "#8 fold accuracy:0.8667, train size:120, val size:30\n",
      "\n",
      "#8 fold accuracy:[60 61 62 63 64 65 66 67 68 69 70 71 72 73 74 75 76 77 78 79 80 81 82 83\n",
      " 84 85 86 87 88 89]\n",
      "\n",
      "#9 fold accuracy:0.9333, train size:120, val size:30\n",
      "\n",
      "#9 fold accuracy:[ 90  91  92  93  94  95  96  97  98  99 100 101 102 103 104 105 106 107\n",
      " 108 109 110 111 112 113 114 115 116 117 118 119]\n",
      "\n",
      "#10 fold accuracy:0.7333, train size:120, val size:30\n",
      "\n",
      "#10 fold accuracy:[120 121 122 123 124 125 126 127 128 129 130 131 132 133 134 135 136 137\n",
      " 138 139 140 141 142 143 144 145 146 147 148 149]\n"
     ]
    }
   ],
   "source": [
    "#Stratified K Fold\n",
    "import pandas as pd\n",
    "\n",
    "iris = load_iris()\n",
    "\n",
    "df_iris = pd.DataFrame(data = iris.data, columns = iris.feature_names)\n",
    "df_iris['label'] = iris.target\n",
    "df_iris['label'].value_counts()\n",
    "\n",
    "Kfold = KFold(n_splits=3)\n",
    "\n",
    "fold_index = 0\n",
    "\n",
    "for train_index, test_index, in kfold.split(df_iris):\n",
    "    fold_index += 1\n",
    "    \n",
    "    label_train=df_iris['label'].iloc[train_index]\n",
    "    label_test = df_iris['label'].iloc[test_index]\n",
    "    \n",
    "    print('## Cross validation: {0}'.format(fold_index))\n",
    "    print('Train label distribution:\\n', label_train.value_counts())\n",
    "    print(\"Val label distribution:\\n\", label_test.value_counts())"
   ]
  },
  {
   "cell_type": "code",
   "execution_count": 32,
   "metadata": {},
   "outputs": [
    {
     "name": "stdout",
     "output_type": "stream",
     "text": [
      "## Cross validation: .1\n",
      "Train label distribution:\n",
      " 2    33\n",
      "1    33\n",
      "0    33\n",
      "Name: label, dtype: int64\n",
      "Val label distribution:\n",
      " 2    17\n",
      "1    17\n",
      "0    17\n",
      "Name: label, dtype: int64\n",
      "## Cross validation: .2\n",
      "Train label distribution:\n",
      " 2    33\n",
      "1    33\n",
      "0    33\n",
      "Name: label, dtype: int64\n",
      "Val label distribution:\n",
      " 2    17\n",
      "1    17\n",
      "0    17\n",
      "Name: label, dtype: int64\n",
      "## Cross validation: .3\n",
      "Train label distribution:\n",
      " 2    34\n",
      "1    34\n",
      "0    34\n",
      "Name: label, dtype: int64\n",
      "Val label distribution:\n",
      " 2    16\n",
      "1    16\n",
      "0    16\n",
      "Name: label, dtype: int64\n"
     ]
    }
   ],
   "source": [
    "from sklearn.model_selection import StratifiedKFold\n",
    "\n",
    "skf = StratifiedKFold(n_splits=3)\n",
    "fold_index = 0\n",
    "\n",
    "for train_index, test_index in skf.split(df_iris, df_iris['label']):\n",
    "    fold_index += 1\n",
    "    \n",
    "    label_train = df_iris['label'].iloc[train_index]\n",
    "    label_test = df_iris['label'].iloc[test_index]\n",
    "    \n",
    "    print('## Cross validation: .{0}'.format(fold_index))\n",
    "    print('Train label distribution:\\n', label_train.value_counts())\n",
    "    print('Val label distribution:\\n', label_test.value_counts())"
   ]
  },
  {
   "cell_type": "code",
   "execution_count": 39,
   "metadata": {},
   "outputs": [
    {
     "name": "stdout",
     "output_type": "stream",
     "text": [
      "[0 0 0 0 0 0 0 0 0 0 0 0 0 0 0 0 0 0 0 0 0 0 0 0 0 0 0 0 0 0 0 0 0 0 0 0 0\n",
      " 0 0 0 0 0 0 0 0 0 0 0 0 0 1 1 1 1 1 1 1 1 1 1 1 1 1 1 1 1 1 1 1 1 1 1 1 1\n",
      " 1 1 1 1 1 1 1 1 1 1 1 1 1 1 1 1 1 1 1 1 1 1 1 1 1 1 2 2 2 2 2 2 2 2 2 2 2\n",
      " 2 2 2 2 2 2 2 2 2 2 2 2 2 2 2 2 2 2 2 2 2 2 2 2 2 2 2 2 2 2 2 2 2 2 2 2 2\n",
      " 2 2]\n",
      "\n",
      "#1 fold accuracy:0.9804, train size:120, val size:51\n",
      "\n",
      "#1 fold accuracy:[  0   1   2   3   4   5   6   7   8   9  10  11  12  13  14  15  16  50\n",
      "  51  52  53  54  55  56  57  58  59  60  61  62  63  64  65  66 100 101\n",
      " 102 103 104 105 106 107 108 109 110 111 112 113 114 115 116]\n",
      "\n",
      "#2 fold accuracy:0.9216, train size:120, val size:51\n",
      "\n",
      "#2 fold accuracy:[ 17  18  19  20  21  22  23  24  25  26  27  28  29  30  31  32  33  67\n",
      "  68  69  70  71  72  73  74  75  76  77  78  79  80  81  82  83 117 118\n",
      " 119 120 121 122 123 124 125 126 127 128 129 130 131 132 133]\n",
      "\n",
      "#3 fold accuracy:0.9792, train size:120, val size:48\n",
      "\n",
      "#3 fold accuracy:[ 34  35  36  37  38  39  40  41  42  43  44  45  46  47  48  49  84  85\n",
      "  86  87  88  89  90  91  92  93  94  95  96  97  98  99 134 135 136 137\n",
      " 138 139 140 141 142 143 144 145 146 147 148 149]\n",
      "\n",
      "##fold val accuracy: [0.9804 0.9216 0.9792]\n",
      "##avg val accurach: 0.9604\n"
     ]
    }
   ],
   "source": [
    "iris = load_iris()\n",
    "features = iris.data\n",
    "label = iris.target\n",
    "\n",
    "dt_clf = DecisionTreeClassifier(random_state=156)\n",
    "\n",
    "skfold = StratifiedKFold(n_splits=3)\n",
    "fold_index=0\n",
    "lst_accuracy = []\n",
    "\n",
    "for train_index, test_index in skfold.split(features, label):\n",
    "    x_train, x_test = features[train_index], features[test_index]\n",
    "    y_train, y_test = label[train_index], label[test_index]\n",
    "    \n",
    "    dt_clf.fit(x_train, y_train)\n",
    "    pred = dt_clf.predict(x_test)\n",
    "    fold_index += 1\n",
    "    accuracy = np.round(accuracy_score(y_test, pred), 4)\n",
    "    train_szie = x_train.shape[0]\n",
    "    test_size = x_test.shape[0]\n",
    "    \n",
    "    print('\\n#{0} fold accuracy:{1}, train size:{2}, val size:{3}'\n",
    "          .format(fold_index, accuracy, train_size , test_size))\n",
    "    print('\\n#{0} fold accuracy:{1}'.format(fold_index, test_index))\n",
    "    \n",
    "    lst_accuracy.append(accuracy)\n",
    "    \n",
    "print('\\n##fold val accuracy:', np.round(lst_accuracy, 4))\n",
    "print('##avg val accurach:', np.mean(lst_accuracy))"
   ]
  },
  {
   "cell_type": "code",
   "execution_count": 46,
   "metadata": {},
   "outputs": [
    {
     "name": "stdout",
     "output_type": "stream",
     "text": [
      "Fold val accuracy: [0.9804 0.9216 0.9792]\n",
      "Avg val accuracy: 0.9604\n"
     ]
    }
   ],
   "source": [
    "#cross_val_score() API\n",
    "from sklearn.tree import DecisionTreeClassifier\n",
    "from sklearn.model_selection import cross_val_score\n",
    "from sklearn.datasets import load_iris\n",
    "\n",
    "iris = load_iris()\n",
    "dt_clf = DecisionTreeClassifier(random_state=156)\n",
    "\n",
    "data = iris.data\n",
    "label - iris.target\n",
    "\n",
    "\n",
    "scores = cross_val_score(dt_clf, data, label, scoring='accuracy', cv=3)\n",
    "print('Fold val accuracy:', np.round(scores, 4))\n",
    "print('Avg val accuracy:', np.round(np.mean(scores), 4))"
   ]
  },
  {
   "cell_type": "code",
   "execution_count": 64,
   "metadata": {},
   "outputs": [
    {
     "name": "stdout",
     "output_type": "stream",
     "text": [
      "   mean_fit_time  std_fit_time  ...  std_test_score  rank_test_score\n",
      "0       0.000355      0.000064  ...        0.000000                5\n",
      "1       0.000331      0.000029  ...        0.000000                5\n",
      "2       0.000348      0.000020  ...        0.031180                3\n",
      "3       0.000678      0.000076  ...        0.031180                3\n",
      "4       0.000462      0.000049  ...        0.020412                1\n",
      "5       0.000415      0.000060  ...        0.020412                1\n",
      "\n",
      "[6 rows x 13 columns]\n",
      "Optimal parameter: {'max_depth': 3, 'min_samples_split': 2}\n",
      "Max accuracy: 0.9750\n",
      "Test dataset accuracy: 0.9667\n"
     ]
    }
   ],
   "source": [
    "#GridSerach() API\n",
    "from sklearn.datasets import load_iris\n",
    "from sklearn.tree import DecisionTreeClassifier\n",
    "from sklearn.model_selection import train_test_split\n",
    "from sklearn.model_selection import GridSearchCV\n",
    "\n",
    "iris = load_iris()\n",
    "x_train, x_test, y_train, y_test = train_test_split(iris.data, iris.target,\n",
    "                                                   test_size=0.2, random_state=121)\n",
    "dtree = DecisionTreeClassifier()\n",
    "\n",
    "parameters = {'max_depth':[1, 2, 3], 'min_samples_split':[2, 3]}\n",
    "\n",
    "import pandas as pd\n",
    "\n",
    "grid_dtree = GridSearchCV(dtree, param_grid=parameters, cv=3, refit=True)\n",
    "\n",
    "grid_dtree.fit(x_train, y_train)\n",
    "\n",
    "scores_df = pd.DataFrame(grid_dtree.cv_results_)\n",
    "scores_df[['params', 'mean_test_score', 'rank_test_score',\\\n",
    "          'split0_test_score', 'split1_test_score', \"split2_test_score\"]]\n",
    "\n",
    "print(scores_df)\n",
    "\n",
    "print('Optimal parameter:', grid_dtree.best_params_)\n",
    "print('Max accuracy: {0:.4f}'.format(grid_dtree.best_score_))\n",
    "\n",
    "estimator = grid_dtree.best_estimator_\n",
    "\n",
    "pred = estimator.predict(x_test)\n",
    "print('Test dataset accuracy: {0:.4f}'.format(accuracy_score(y_test, pred)))"
   ]
  },
  {
   "cell_type": "code",
   "execution_count": null,
   "metadata": {},
   "outputs": [],
   "source": []
  }
 ],
 "metadata": {
  "kernelspec": {
   "display_name": "Python 3",
   "language": "python",
   "name": "python3"
  },
  "language_info": {
   "codemirror_mode": {
    "name": "ipython",
    "version": 3
   },
   "file_extension": ".py",
   "mimetype": "text/x-python",
   "name": "python",
   "nbconvert_exporter": "python",
   "pygments_lexer": "ipython3",
   "version": "3.7.4"
  }
 },
 "nbformat": 4,
 "nbformat_minor": 2
}
